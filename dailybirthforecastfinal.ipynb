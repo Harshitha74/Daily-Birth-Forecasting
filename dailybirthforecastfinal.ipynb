{
  "nbformat": 4,
  "nbformat_minor": 0,
  "metadata": {
    "colab": {
      "provenance": []
    },
    "kernelspec": {
      "name": "python3",
      "display_name": "Python 3"
    },
    "language_info": {
      "name": "python"
    }
  },
  "cells": [
    {
      "source": [
        "# Task\n",
        "Leveraged LSTM and ARIMA models to support\n",
        "public health planning by predicting birth trends.\n",
        "\n",
        "Here is all the data you need:\n",
        "\"daily-total-female-births-CA.csv\""
      ],
      "cell_type": "markdown",
      "metadata": {
        "id": "OCOrPqJK2KFJ"
      }
    },
    {
      "source": [
        "## Data loading\n",
        "\n",
        "### Subtask:\n",
        "Load the \"daily-total-female-births-CA.csv\" dataset.\n"
      ],
      "cell_type": "markdown",
      "metadata": {
        "id": "gbbkQQw22KU6"
      }
    },
    {
      "source": [
        "**Reasoning**:\n",
        "Load the \"daily-total-female-births-CA.csv\" dataset into a pandas DataFrame and display its first few rows to verify the load.\n",
        "\n"
      ],
      "cell_type": "markdown",
      "metadata": {
        "id": "-rC6GmCK2Kkt"
      }
    },
    {
      "source": [
        "import pandas as pd\n",
        "\n",
        "try:\n",
        "    df_births = pd.read_csv('daily-total-female-births-CA.csv')\n",
        "    display(df_births.head())\n",
        "    print(df_births.dtypes)\n",
        "except FileNotFoundError:\n",
        "    print(\"Error: 'daily-total-female-births-CA.csv' not found.\")\n",
        "    df_births = None\n",
        "except Exception as e:\n",
        "    print(f\"An error occurred: {e}\")\n",
        "    df_births = None"
      ],
      "cell_type": "code",
      "metadata": {
        "colab": {
          "base_uri": "https://localhost:8080/",
          "height": 258
        },
        "id": "2nBjoEkZ2K0b",
        "outputId": "b3083c50-0023-4b94-c141-b31b85784a43"
      },
      "execution_count": 1,
      "outputs": [
        {
          "output_type": "display_data",
          "data": {
            "text/plain": [
              "         date  births\n",
              "0  1959-01-01      35\n",
              "1  1959-01-02      32\n",
              "2  1959-01-03      30\n",
              "3  1959-01-04      31\n",
              "4  1959-01-05      44"
            ],
            "text/html": [
              "\n",
              "  <div id=\"df-8b79a168-d269-45fa-8b56-cb31404a82a3\" class=\"colab-df-container\">\n",
              "    <div>\n",
              "<style scoped>\n",
              "    .dataframe tbody tr th:only-of-type {\n",
              "        vertical-align: middle;\n",
              "    }\n",
              "\n",
              "    .dataframe tbody tr th {\n",
              "        vertical-align: top;\n",
              "    }\n",
              "\n",
              "    .dataframe thead th {\n",
              "        text-align: right;\n",
              "    }\n",
              "</style>\n",
              "<table border=\"1\" class=\"dataframe\">\n",
              "  <thead>\n",
              "    <tr style=\"text-align: right;\">\n",
              "      <th></th>\n",
              "      <th>date</th>\n",
              "      <th>births</th>\n",
              "    </tr>\n",
              "  </thead>\n",
              "  <tbody>\n",
              "    <tr>\n",
              "      <th>0</th>\n",
              "      <td>1959-01-01</td>\n",
              "      <td>35</td>\n",
              "    </tr>\n",
              "    <tr>\n",
              "      <th>1</th>\n",
              "      <td>1959-01-02</td>\n",
              "      <td>32</td>\n",
              "    </tr>\n",
              "    <tr>\n",
              "      <th>2</th>\n",
              "      <td>1959-01-03</td>\n",
              "      <td>30</td>\n",
              "    </tr>\n",
              "    <tr>\n",
              "      <th>3</th>\n",
              "      <td>1959-01-04</td>\n",
              "      <td>31</td>\n",
              "    </tr>\n",
              "    <tr>\n",
              "      <th>4</th>\n",
              "      <td>1959-01-05</td>\n",
              "      <td>44</td>\n",
              "    </tr>\n",
              "  </tbody>\n",
              "</table>\n",
              "</div>\n",
              "    <div class=\"colab-df-buttons\">\n",
              "\n",
              "  <div class=\"colab-df-container\">\n",
              "    <button class=\"colab-df-convert\" onclick=\"convertToInteractive('df-8b79a168-d269-45fa-8b56-cb31404a82a3')\"\n",
              "            title=\"Convert this dataframe to an interactive table.\"\n",
              "            style=\"display:none;\">\n",
              "\n",
              "  <svg xmlns=\"http://www.w3.org/2000/svg\" height=\"24px\" viewBox=\"0 -960 960 960\">\n",
              "    <path d=\"M120-120v-720h720v720H120Zm60-500h600v-160H180v160Zm220 220h160v-160H400v160Zm0 220h160v-160H400v160ZM180-400h160v-160H180v160Zm440 0h160v-160H620v160ZM180-180h160v-160H180v160Zm440 0h160v-160H620v160Z\"/>\n",
              "  </svg>\n",
              "    </button>\n",
              "\n",
              "  <style>\n",
              "    .colab-df-container {\n",
              "      display:flex;\n",
              "      gap: 12px;\n",
              "    }\n",
              "\n",
              "    .colab-df-convert {\n",
              "      background-color: #E8F0FE;\n",
              "      border: none;\n",
              "      border-radius: 50%;\n",
              "      cursor: pointer;\n",
              "      display: none;\n",
              "      fill: #1967D2;\n",
              "      height: 32px;\n",
              "      padding: 0 0 0 0;\n",
              "      width: 32px;\n",
              "    }\n",
              "\n",
              "    .colab-df-convert:hover {\n",
              "      background-color: #E2EBFA;\n",
              "      box-shadow: 0px 1px 2px rgba(60, 64, 67, 0.3), 0px 1px 3px 1px rgba(60, 64, 67, 0.15);\n",
              "      fill: #174EA6;\n",
              "    }\n",
              "\n",
              "    .colab-df-buttons div {\n",
              "      margin-bottom: 4px;\n",
              "    }\n",
              "\n",
              "    [theme=dark] .colab-df-convert {\n",
              "      background-color: #3B4455;\n",
              "      fill: #D2E3FC;\n",
              "    }\n",
              "\n",
              "    [theme=dark] .colab-df-convert:hover {\n",
              "      background-color: #434B5C;\n",
              "      box-shadow: 0px 1px 3px 1px rgba(0, 0, 0, 0.15);\n",
              "      filter: drop-shadow(0px 1px 2px rgba(0, 0, 0, 0.3));\n",
              "      fill: #FFFFFF;\n",
              "    }\n",
              "  </style>\n",
              "\n",
              "    <script>\n",
              "      const buttonEl =\n",
              "        document.querySelector('#df-8b79a168-d269-45fa-8b56-cb31404a82a3 button.colab-df-convert');\n",
              "      buttonEl.style.display =\n",
              "        google.colab.kernel.accessAllowed ? 'block' : 'none';\n",
              "\n",
              "      async function convertToInteractive(key) {\n",
              "        const element = document.querySelector('#df-8b79a168-d269-45fa-8b56-cb31404a82a3');\n",
              "        const dataTable =\n",
              "          await google.colab.kernel.invokeFunction('convertToInteractive',\n",
              "                                                    [key], {});\n",
              "        if (!dataTable) return;\n",
              "\n",
              "        const docLinkHtml = 'Like what you see? Visit the ' +\n",
              "          '<a target=\"_blank\" href=https://colab.research.google.com/notebooks/data_table.ipynb>data table notebook</a>'\n",
              "          + ' to learn more about interactive tables.';\n",
              "        element.innerHTML = '';\n",
              "        dataTable['output_type'] = 'display_data';\n",
              "        await google.colab.output.renderOutput(dataTable, element);\n",
              "        const docLink = document.createElement('div');\n",
              "        docLink.innerHTML = docLinkHtml;\n",
              "        element.appendChild(docLink);\n",
              "      }\n",
              "    </script>\n",
              "  </div>\n",
              "\n",
              "\n",
              "    <div id=\"df-bc5c668d-d8f6-4d85-a41c-06786ea4c142\">\n",
              "      <button class=\"colab-df-quickchart\" onclick=\"quickchart('df-bc5c668d-d8f6-4d85-a41c-06786ea4c142')\"\n",
              "                title=\"Suggest charts\"\n",
              "                style=\"display:none;\">\n",
              "\n",
              "<svg xmlns=\"http://www.w3.org/2000/svg\" height=\"24px\"viewBox=\"0 0 24 24\"\n",
              "     width=\"24px\">\n",
              "    <g>\n",
              "        <path d=\"M19 3H5c-1.1 0-2 .9-2 2v14c0 1.1.9 2 2 2h14c1.1 0 2-.9 2-2V5c0-1.1-.9-2-2-2zM9 17H7v-7h2v7zm4 0h-2V7h2v10zm4 0h-2v-4h2v4z\"/>\n",
              "    </g>\n",
              "</svg>\n",
              "      </button>\n",
              "\n",
              "<style>\n",
              "  .colab-df-quickchart {\n",
              "      --bg-color: #E8F0FE;\n",
              "      --fill-color: #1967D2;\n",
              "      --hover-bg-color: #E2EBFA;\n",
              "      --hover-fill-color: #174EA6;\n",
              "      --disabled-fill-color: #AAA;\n",
              "      --disabled-bg-color: #DDD;\n",
              "  }\n",
              "\n",
              "  [theme=dark] .colab-df-quickchart {\n",
              "      --bg-color: #3B4455;\n",
              "      --fill-color: #D2E3FC;\n",
              "      --hover-bg-color: #434B5C;\n",
              "      --hover-fill-color: #FFFFFF;\n",
              "      --disabled-bg-color: #3B4455;\n",
              "      --disabled-fill-color: #666;\n",
              "  }\n",
              "\n",
              "  .colab-df-quickchart {\n",
              "    background-color: var(--bg-color);\n",
              "    border: none;\n",
              "    border-radius: 50%;\n",
              "    cursor: pointer;\n",
              "    display: none;\n",
              "    fill: var(--fill-color);\n",
              "    height: 32px;\n",
              "    padding: 0;\n",
              "    width: 32px;\n",
              "  }\n",
              "\n",
              "  .colab-df-quickchart:hover {\n",
              "    background-color: var(--hover-bg-color);\n",
              "    box-shadow: 0 1px 2px rgba(60, 64, 67, 0.3), 0 1px 3px 1px rgba(60, 64, 67, 0.15);\n",
              "    fill: var(--button-hover-fill-color);\n",
              "  }\n",
              "\n",
              "  .colab-df-quickchart-complete:disabled,\n",
              "  .colab-df-quickchart-complete:disabled:hover {\n",
              "    background-color: var(--disabled-bg-color);\n",
              "    fill: var(--disabled-fill-color);\n",
              "    box-shadow: none;\n",
              "  }\n",
              "\n",
              "  .colab-df-spinner {\n",
              "    border: 2px solid var(--fill-color);\n",
              "    border-color: transparent;\n",
              "    border-bottom-color: var(--fill-color);\n",
              "    animation:\n",
              "      spin 1s steps(1) infinite;\n",
              "  }\n",
              "\n",
              "  @keyframes spin {\n",
              "    0% {\n",
              "      border-color: transparent;\n",
              "      border-bottom-color: var(--fill-color);\n",
              "      border-left-color: var(--fill-color);\n",
              "    }\n",
              "    20% {\n",
              "      border-color: transparent;\n",
              "      border-left-color: var(--fill-color);\n",
              "      border-top-color: var(--fill-color);\n",
              "    }\n",
              "    30% {\n",
              "      border-color: transparent;\n",
              "      border-left-color: var(--fill-color);\n",
              "      border-top-color: var(--fill-color);\n",
              "      border-right-color: var(--fill-color);\n",
              "    }\n",
              "    40% {\n",
              "      border-color: transparent;\n",
              "      border-right-color: var(--fill-color);\n",
              "      border-top-color: var(--fill-color);\n",
              "    }\n",
              "    60% {\n",
              "      border-color: transparent;\n",
              "      border-right-color: var(--fill-color);\n",
              "    }\n",
              "    80% {\n",
              "      border-color: transparent;\n",
              "      border-right-color: var(--fill-color);\n",
              "      border-bottom-color: var(--fill-color);\n",
              "    }\n",
              "    90% {\n",
              "      border-color: transparent;\n",
              "      border-bottom-color: var(--fill-color);\n",
              "    }\n",
              "  }\n",
              "</style>\n",
              "\n",
              "      <script>\n",
              "        async function quickchart(key) {\n",
              "          const quickchartButtonEl =\n",
              "            document.querySelector('#' + key + ' button');\n",
              "          quickchartButtonEl.disabled = true;  // To prevent multiple clicks.\n",
              "          quickchartButtonEl.classList.add('colab-df-spinner');\n",
              "          try {\n",
              "            const charts = await google.colab.kernel.invokeFunction(\n",
              "                'suggestCharts', [key], {});\n",
              "          } catch (error) {\n",
              "            console.error('Error during call to suggestCharts:', error);\n",
              "          }\n",
              "          quickchartButtonEl.classList.remove('colab-df-spinner');\n",
              "          quickchartButtonEl.classList.add('colab-df-quickchart-complete');\n",
              "        }\n",
              "        (() => {\n",
              "          let quickchartButtonEl =\n",
              "            document.querySelector('#df-bc5c668d-d8f6-4d85-a41c-06786ea4c142 button');\n",
              "          quickchartButtonEl.style.display =\n",
              "            google.colab.kernel.accessAllowed ? 'block' : 'none';\n",
              "        })();\n",
              "      </script>\n",
              "    </div>\n",
              "\n",
              "    </div>\n",
              "  </div>\n"
            ],
            "application/vnd.google.colaboratory.intrinsic+json": {
              "type": "dataframe",
              "summary": "{\n  \"name\": \"    df_births = None\",\n  \"rows\": 5,\n  \"fields\": [\n    {\n      \"column\": \"date\",\n      \"properties\": {\n        \"dtype\": \"object\",\n        \"num_unique_values\": 5,\n        \"samples\": [\n          \"1959-01-02\",\n          \"1959-01-05\",\n          \"1959-01-03\"\n        ],\n        \"semantic_type\": \"\",\n        \"description\": \"\"\n      }\n    },\n    {\n      \"column\": \"births\",\n      \"properties\": {\n        \"dtype\": \"number\",\n        \"std\": 5,\n        \"min\": 30,\n        \"max\": 44,\n        \"num_unique_values\": 5,\n        \"samples\": [\n          32,\n          44,\n          30\n        ],\n        \"semantic_type\": \"\",\n        \"description\": \"\"\n      }\n    }\n  ]\n}"
            }
          },
          "metadata": {}
        },
        {
          "output_type": "stream",
          "name": "stdout",
          "text": [
            "date      object\n",
            "births     int64\n",
            "dtype: object\n"
          ]
        }
      ]
    },
    {
      "source": [
        "## Data exploration\n",
        "\n",
        "### Subtask:\n",
        "Explore the loaded dataset `df_births` to understand its characteristics.\n"
      ],
      "cell_type": "markdown",
      "metadata": {
        "id": "gcXfaYK62O_U"
      }
    },
    {
      "source": [
        "**Reasoning**:\n",
        "Explore the dataset `df_births` by examining its shape, checking for missing values, analyzing the distribution of 'births', converting the 'date' column to datetime objects, and visualizing the 'births' over time.\n",
        "\n"
      ],
      "cell_type": "markdown",
      "metadata": {
        "id": "T22gHSIS2P3Y"
      }
    },
    {
      "source": [
        "import matplotlib.pyplot as plt\n",
        "\n",
        "# Check the shape of the DataFrame\n",
        "print(\"Shape of the DataFrame:\", df_births.shape)\n",
        "\n",
        "# Check for missing values\n",
        "print(\"\\nMissing values per column:\\n\", df_births.isnull().sum())\n",
        "\n",
        "# Analyze the distribution of 'births'\n",
        "print(\"\\nDescriptive statistics for 'births':\\n\", df_births['births'].describe())\n",
        "plt.figure(figsize=(10, 6))\n",
        "plt.hist(df_births['births'], bins=30, color='skyblue', edgecolor='black')\n",
        "plt.title('Distribution of Daily Births')\n",
        "plt.xlabel('Number of Births')\n",
        "plt.ylabel('Frequency')\n",
        "plt.show()\n",
        "\n",
        "plt.figure(figsize=(10, 6))\n",
        "plt.boxplot(df_births['births'], vert=False, patch_artist=True,\n",
        "            boxprops=dict(facecolor='lightcoral', color='black'),\n",
        "            capprops=dict(color='black'),\n",
        "            whiskerprops=dict(color='black'),\n",
        "            flierprops=dict(markeredgecolor='black'))\n",
        "plt.title('Box Plot of Daily Births')\n",
        "plt.xlabel('Number of Births')\n",
        "plt.show()\n",
        "\n",
        "# Convert 'date' column to datetime objects\n",
        "df_births['date'] = pd.to_datetime(df_births['date'])\n",
        "\n",
        "# Determine the earliest and latest dates\n",
        "earliest_date = df_births['date'].min()\n",
        "latest_date = df_births['date'].max()\n",
        "print(f\"\\nEarliest date: {earliest_date}\")\n",
        "print(f\"Latest date: {latest_date}\")\n",
        "total_duration = (latest_date - earliest_date).days\n",
        "print(f\"Total duration: {total_duration} days\")\n",
        "\n",
        "# Visualize 'births' over time\n",
        "plt.figure(figsize=(12, 6))\n",
        "plt.plot(df_births['date'], df_births['births'], color='green')\n",
        "plt.title('Daily Births Over Time')\n",
        "plt.xlabel('Date')\n",
        "plt.ylabel('Number of Births')\n",
        "plt.grid(True)\n",
        "plt.show()"
      ],
      "cell_type": "code",
      "metadata": {
        "colab": {
          "base_uri": "https://localhost:8080/",
          "height": 1000
        },
        "id": "GvHfwRcR2QHM",
        "outputId": "08e56e92-3ee4-4170-8d1f-a921e2787acd"
      },
      "execution_count": 2,
      "outputs": [
        {
          "output_type": "stream",
          "name": "stdout",
          "text": [
            "Shape of the DataFrame: (365, 2)\n",
            "\n",
            "Missing values per column:\n",
            " date      0\n",
            "births    0\n",
            "dtype: int64\n",
            "\n",
            "Descriptive statistics for 'births':\n",
            " count    365.000000\n",
            "mean      41.980822\n",
            "std        7.348257\n",
            "min       23.000000\n",
            "25%       37.000000\n",
            "50%       42.000000\n",
            "75%       46.000000\n",
            "max       73.000000\n",
            "Name: births, dtype: float64\n"
          ]
        },
        {
          "output_type": "display_data",
          "data": {
            "text/plain": [
              "<Figure size 1000x600 with 1 Axes>"
            ],
            "image/png": "[encoded data removed]"
          },
          "metadata": {}
        },
        {
          "output_type": "display_data",
          "data": {
            "text/plain": [
              "<Figure size 1000x600 with 1 Axes>"
            ],
            "image/png": "[encoded data removed]"
          },
          "metadata": {}
        },
        {
          "output_type": "stream",
          "name": "stdout",
          "text": [
            "\n",
            "Earliest date: 1959-01-01 00:00:00\n",
            "Latest date: 1959-12-31 00:00:00\n",
            "Total duration: 364 days\n"
          ]
        },
        {
          "output_type": "display_data",
          "data": {
            "text/plain": [
              "<Figure size 1200x600 with 1 Axes>"
            ],
            "image/png": "[encoded data removed]"
          },
          "metadata": {}
        }
      ]
    },
    {
      "source": [
        "## Data preparation\n",
        "\n",
        "### Subtask:\n",
        "Prepare the data for time series analysis by handling missing values (if any), transforming the data (if necessary), and splitting the data into training and testing sets.\n"
      ],
      "cell_type": "markdown",
      "metadata": {
        "id": "uh8Y09nd2VJ1"
      }
    },
    {
      "source": [
        "**Reasoning**:\n",
        "Prepare the data for time series analysis by handling missing values, transforming the data, and splitting the data into training and testing sets.  Since no missing values were found in the previous step, I will focus on transforming the data and splitting it into training and testing sets.  I'll convert the 'date' column to ordinal encoding and then split the data.\n",
        "\n"
      ],
      "cell_type": "markdown",
      "metadata": {
        "id": "z4s91y_e2WU3"
      }
    },
    {
      "source": [
        "import pandas as pd\n",
        "from sklearn.model_selection import train_test_split\n",
        "\n",
        "# Convert 'date' to ordinal representation\n",
        "df_births['date_ordinal'] = pd.to_datetime(df_births['date']).apply(lambda date: date.toordinal())\n",
        "\n",
        "# Define features (X) and target (y)\n",
        "X = df_births[['date_ordinal']]\n",
        "y = df_births['births']\n",
        "\n",
        "# Split data into training and testing sets (80/20 split, no shuffling)\n",
        "X_train, X_test, y_train, y_test = train_test_split(X, y, test_size=0.2, shuffle=False)\n",
        "\n",
        "# Print shapes to verify the split\n",
        "print(\"X_train shape:\", X_train.shape)\n",
        "print(\"X_test shape:\", X_test.shape)\n",
        "print(\"y_train shape:\", y_train.shape)\n",
        "print(\"y_test shape:\", y_test.shape)"
      ],
      "cell_type": "code",
      "metadata": {
        "colab": {
          "base_uri": "https://localhost:8080/"
        },
        "id": "Ueie-Hsh2Wkl",
        "outputId": "df4702e9-52c7-44bf-fac7-1059a40e2f40"
      },
      "execution_count": 3,
      "outputs": [
        {
          "output_type": "stream",
          "name": "stdout",
          "text": [
            "X_train shape: (292, 1)\n",
            "X_test shape: (73, 1)\n",
            "y_train shape: (292,)\n",
            "y_test shape: (73,)\n"
          ]
        }
      ]
    },
    {
      "source": [
        "## Model training\n",
        "\n",
        "### Subtask:\n",
        "Train LSTM and ARIMA models on the prepared data.\n"
      ],
      "cell_type": "markdown",
      "metadata": {
        "id": "1T9FENlu2aom"
      }
    },
    {
      "source": [
        "**Reasoning**:\n",
        "Train LSTM and ARIMA models on the prepared data.\n",
        "\n"
      ],
      "cell_type": "markdown",
      "metadata": {
        "id": "-MWYVzN62bgy"
      }
    },
    {
      "source": [
        "import numpy as np\n",
        "from tensorflow import keras\n",
        "from keras.models import Sequential\n",
        "from keras.layers import LSTM, Dense\n",
        "from statsmodels.tsa.arima.model import ARIMA\n",
        "import matplotlib.pyplot as plt\n",
        "\n",
        "# 1. LSTM Model Training\n",
        "# Reshape X_train for LSTM\n",
        "timesteps = 5  # Experiment with different values\n",
        "X_train_reshaped = []\n",
        "y_train_reshaped = []\n",
        "for i in range(timesteps, len(X_train)):\n",
        "    X_train_reshaped.append(X_train['date_ordinal'][i-timesteps:i].values.reshape(-1, 1))\n",
        "    y_train_reshaped.append(y_train[i])\n",
        "\n",
        "X_train_reshaped = np.array(X_train_reshaped)\n",
        "y_train_reshaped = np.array(y_train_reshaped)\n",
        "\n",
        "# Define the LSTM model\n",
        "lstm_model = Sequential()\n",
        "lstm_model.add(LSTM(units=50, activation='relu', input_shape=(timesteps, 1)))\n",
        "lstm_model.add(Dense(units=1))\n",
        "\n",
        "# Compile the model\n",
        "lstm_model.compile(optimizer='adam', loss='mse')\n",
        "\n",
        "# Train the model\n",
        "lstm_model.fit(X_train_reshaped, y_train_reshaped, epochs=50, batch_size=32, verbose=0)\n",
        "\n",
        "# Save the LSTM model\n",
        "lstm_model.save('lstm_birth_model.h5')\n",
        "\n",
        "# 2. ARIMA Model Training\n",
        "# Determine (p,d,q) order (simplified example, needs ACF/PACF analysis for better results)\n",
        "p, d, q = 5, 1, 0\n",
        "\n",
        "# Fit the ARIMA model\n",
        "arima_model = ARIMA(y_train, order=(p, d, q))\n",
        "arima_model_fit = arima_model.fit()\n",
        "\n",
        "# Save the ARIMA model\n",
        "arima_model_fit.save('arima_birth_model.pkl')"
      ],
      "cell_type": "code",
      "metadata": {
        "colab": {
          "base_uri": "https://localhost:8080/"
        },
        "id": "2P7JSDoi2bwd",
        "outputId": "24698512-322d-46a7-8b0c-df64ac93363f"
      },
      "execution_count": 4,
      "outputs": [
        {
          "output_type": "stream",
          "name": "stderr",
          "text": [
            "/usr/local/lib/python3.12/dist-packages/keras/src/layers/rnn/rnn.py:199: UserWarning: Do not pass an `input_shape`/`input_dim` argument to a layer. When using Sequential models, prefer using an `Input(shape)` object as the first layer in the model instead.\n",
            "  super().__init__(**kwargs)\n",
            "WARNING:absl:You are saving your model as an HDF5 file via `model.save()` or `keras.saving.save_model(model)`. This file format is considered legacy. We recommend using instead the native Keras format, e.g. `model.save('my_model.keras')` or `keras.saving.save_model(model, 'my_model.keras')`. \n"
          ]
        }
      ]
    },
    {
      "source": [
        "**Reasoning**:\n",
        "The previous code block had a warning about the input shape to the LSTM layer and a recommendation to use the native Keras format for saving models. I will correct these issues. Also, I will add code to plot the training loss for the LSTM model to monitor the training progress.\n",
        "\n"
      ],
      "cell_type": "markdown",
      "metadata": {
        "id": "QHHWu7Di2hUg"
      }
    },
    {
      "source": [
        "import numpy as np\n",
        "from tensorflow import keras\n",
        "from keras.models import Sequential\n",
        "from keras.layers import LSTM, Dense\n",
        "from keras.layers import Input\n",
        "from statsmodels.tsa.arima.model import ARIMA\n",
        "import matplotlib.pyplot as plt\n",
        "\n",
        "# 1. LSTM Model Training\n",
        "timesteps = 5\n",
        "X_train_reshaped = []\n",
        "y_train_reshaped = []\n",
        "for i in range(timesteps, len(X_train)):\n",
        "    X_train_reshaped.append(X_train['date_ordinal'][i-timesteps:i].values.reshape(-1, 1))\n",
        "    y_train_reshaped.append(y_train[i])\n",
        "\n",
        "X_train_reshaped = np.array(X_train_reshaped)\n",
        "y_train_reshaped = np.array(y_train_reshaped)\n",
        "\n",
        "# Define the LSTM model\n",
        "lstm_model = Sequential()\n",
        "lstm_model.add(Input(shape=(timesteps, 1))) # Use Input layer\n",
        "lstm_model.add(LSTM(units=50, activation='relu'))\n",
        "lstm_model.add(Dense(units=1))\n",
        "\n",
        "# Compile the model\n",
        "lstm_model.compile(optimizer='adam', loss='mse')\n",
        "\n",
        "# Train the model and store the history\n",
        "history = lstm_model.fit(X_train_reshaped, y_train_reshaped, epochs=50, batch_size=32, verbose=0)\n",
        "\n",
        "# Plot training loss\n",
        "plt.figure(figsize=(8, 6))\n",
        "plt.plot(history.history['loss'], label='Training Loss')\n",
        "plt.title('LSTM Training Loss')\n",
        "plt.xlabel('Epoch')\n",
        "plt.ylabel('Loss')\n",
        "plt.legend()\n",
        "plt.show()\n",
        "\n",
        "# Save the LSTM model in the native Keras format\n",
        "lstm_model.save('lstm_birth_model.keras')\n",
        "\n",
        "# 2. ARIMA Model Training\n",
        "p, d, q = 5, 1, 0\n",
        "arima_model = ARIMA(y_train, order=(p, d, q))\n",
        "arima_model_fit = arima_model.fit()\n",
        "\n",
        "# Save the ARIMA model\n",
        "arima_model_fit.save('arima_birth_model.pkl')"
      ],
      "cell_type": "code",
      "metadata": {
        "colab": {
          "base_uri": "https://localhost:8080/",
          "height": 564
        },
        "id": "mE4DAb8l2hkN",
        "outputId": "59630f24-dbe5-4411-84d3-47d8c143d4c1"
      },
      "execution_count": 5,
      "outputs": [
        {
          "output_type": "display_data",
          "data": {
            "text/plain": [
              "<Figure size 800x600 with 1 Axes>"
            ],
            "image/png": "[encoded data removed]"
          },
          "metadata": {}
        }
      ]
    },
    {
      "source": [
        "## Model evaluation\n",
        "\n",
        "### Subtask:\n",
        "Evaluate the performance of the trained LSTM and ARIMA models on the test dataset.\n"
      ],
      "cell_type": "markdown",
      "metadata": {
        "id": "M6ZFoW7a2naa"
      }
    },
    {
      "source": [
        "**Reasoning**:\n",
        "Load the saved models, prepare the test data, generate predictions, and evaluate the models using MAE, RMSE, and MAPE.\n",
        "\n"
      ],
      "cell_type": "markdown",
      "metadata": {
        "id": "oGOQ2mlV2o6S"
      }
    },
    {
      "source": [
        "import numpy as np\n",
        "from sklearn.metrics import mean_absolute_error, mean_squared_error\n",
        "from tensorflow import keras\n",
        "from statsmodels.tsa.arima.model import ARIMAResults\n",
        "import pickle\n",
        "\n",
        "# Load the LSTM model\n",
        "lstm_model = keras.models.load_model('lstm_birth_model.keras')\n",
        "\n",
        "# Load the ARIMA model\n",
        "try:\n",
        "    arima_model = ARIMAResults.load('arima_birth_model.pkl')\n",
        "except pickle.UnpicklingError:\n",
        "    print(\"Error loading ARIMA model. Using a different loading method.\")\n",
        "    with open('arima_birth_model.pkl', 'rb') as f:\n",
        "      arima_model = pickle.load(f)\n",
        "\n",
        "\n",
        "# Prepare test data for LSTM\n",
        "timesteps = 5  # Use the same timesteps as during training\n",
        "X_test_reshaped = []\n",
        "for i in range(timesteps, len(X_test)):\n",
        "    X_test_reshaped.append(X_test['date_ordinal'][i - timesteps:i].values.reshape(-1, 1))\n",
        "X_test_reshaped = np.array(X_test_reshaped)\n",
        "y_test_reshaped = y_test[timesteps:]\n",
        "\n",
        "# Generate predictions for LSTM\n",
        "lstm_predictions = lstm_model.predict(X_test_reshaped)\n",
        "\n",
        "# Generate predictions for ARIMA\n",
        "arima_predictions = arima_model.predict(start=len(y_train), end=len(y_train) + len(y_test) - 1)\n",
        "\n",
        "# Define a function to calculate MAPE\n",
        "def mean_absolute_percentage_error(y_true, y_pred):\n",
        "    y_true, y_pred = np.array(y_true), np.array(y_pred)\n",
        "    return np.mean(np.abs((y_true - y_pred) / y_true)) * 100\n",
        "\n",
        "# Evaluate LSTM\n",
        "lstm_mae = mean_absolute_error(y_test_reshaped, lstm_predictions)\n",
        "lstm_rmse = np.sqrt(mean_squared_error(y_test_reshaped, lstm_predictions))\n",
        "lstm_mape = mean_absolute_percentage_error(y_test_reshaped, lstm_predictions)\n",
        "\n",
        "print(\"LSTM Evaluation:\")\n",
        "print(f\"MAE: {lstm_mae}\")\n",
        "print(f\"RMSE: {lstm_rmse}\")\n",
        "print(f\"MAPE: {lstm_mape}%\")\n",
        "\n",
        "# Evaluate ARIMA\n",
        "arima_mae = mean_absolute_error(y_test, arima_predictions)\n",
        "arima_rmse = np.sqrt(mean_squared_error(y_test, arima_predictions))\n",
        "arima_mape = mean_absolute_percentage_error(y_test, arima_predictions)\n",
        "\n",
        "print(\"\\nARIMA Evaluation:\")\n",
        "print(f\"MAE: {arima_mae}\")\n",
        "print(f\"RMSE: {arima_rmse}\")\n",
        "print(f\"MAPE: {arima_mape}%\")"
      ],
      "cell_type": "code",
      "metadata": {
        "colab": {
          "base_uri": "https://localhost:8080/"
        },
        "id": "B5kANW_i2pJ-",
        "outputId": "d9a62fb7-3426-4e41-f1b6-bf7f01254ca7"
      },
      "execution_count": 6,
      "outputs": [
        {
          "output_type": "stream",
          "name": "stdout",
          "text": [
            "\u001b[1m3/3\u001b[0m \u001b[32m━━━━━━━━━━━━━━━━━━━━\u001b[0m\u001b[37m\u001b[0m \u001b[1m0s\u001b[0m 83ms/step\n",
            "LSTM Evaluation:\n",
            "MAE: 5.381991386413574\n",
            "RMSE: 6.661613488397449\n",
            "MAPE: 12.541898082160563%\n",
            "\n",
            "ARIMA Evaluation:\n",
            "MAE: 5.58222455621236\n",
            "RMSE: 6.844619762268584\n",
            "MAPE: 14.080338310249147%\n"
          ]
        }
      ]
    },
    {
      "source": [
        "## Model optimization\n",
        "\n",
        "### Subtask:\n",
        "Optimize the hyperparameters of the LSTM model to improve its predictive accuracy.\n"
      ],
      "cell_type": "markdown",
      "metadata": {
        "id": "pM0DaYYp2s4M"
      }
    },
    {
      "source": [
        "**Reasoning**:\n",
        "I need to load the previously saved LSTM model, define a parameter grid for hyperparameter tuning, use a suitable hyperparameter tuning technique to find the optimal hyperparameter values, train a new LSTM model with the optimized hyperparameters, and save the optimized model.\n",
        "\n"
      ],
      "cell_type": "markdown",
      "metadata": {
        "id": "kDTjj8SW2uYF"
      }
    },
    {
      "source": [
        "!pip install scikeras"
      ],
      "cell_type": "code",
      "metadata": {
        "colab": {
          "base_uri": "https://localhost:8080/"
        },
        "id": "xqPMc3VY2zQR",
        "outputId": "7a46c570-0060-46e3-a38e-5003d0a8dacb"
      },
      "execution_count": 7,
      "outputs": [
        {
          "output_type": "stream",
          "name": "stdout",
          "text": [
            "Requirement already satisfied: scikeras in /usr/local/lib/python3.12/dist-packages (0.13.0)\n",
            "Requirement already satisfied: keras>=3.2.0 in /usr/local/lib/python3.12/dist-packages (from scikeras) (3.10.0)\n",
            "Requirement already satisfied: scikit-learn>=1.4.2 in /usr/local/lib/python3.12/dist-packages (from scikeras) (1.7.2)\n",
            "Requirement already satisfied: absl-py in /usr/local/lib/python3.12/dist-packages (from keras>=3.2.0->scikeras) (1.4.0)\n",
            "Requirement already satisfied: numpy in /usr/local/lib/python3.12/dist-packages (from keras>=3.2.0->scikeras) (2.0.2)\n",
            "Requirement already satisfied: rich in /usr/local/lib/python3.12/dist-packages (from keras>=3.2.0->scikeras) (13.9.4)\n",
            "Requirement already satisfied: namex in /usr/local/lib/python3.12/dist-packages (from keras>=3.2.0->scikeras) (0.1.0)\n",
            "Requirement already satisfied: h5py in /usr/local/lib/python3.12/dist-packages (from keras>=3.2.0->scikeras) (3.15.1)\n",
            "Requirement already satisfied: optree in /usr/local/lib/python3.12/dist-packages (from keras>=3.2.0->scikeras) (0.17.0)\n",
            "Requirement already satisfied: ml-dtypes in /usr/local/lib/python3.12/dist-packages (from keras>=3.2.0->scikeras) (0.5.3)\n",
            "Requirement already satisfied: packaging in /usr/local/lib/python3.12/dist-packages (from keras>=3.2.0->scikeras) (25.0)\n",
            "Requirement already satisfied: scipy>=1.8.0 in /usr/local/lib/python3.12/dist-packages (from scikit-learn>=1.4.2->scikeras) (1.16.2)\n",
            "Requirement already satisfied: joblib>=1.2.0 in /usr/local/lib/python3.12/dist-packages (from scikit-learn>=1.4.2->scikeras) (1.5.2)\n",
            "Requirement already satisfied: threadpoolctl>=3.1.0 in /usr/local/lib/python3.12/dist-packages (from scikit-learn>=1.4.2->scikeras) (3.6.0)\n",
            "Requirement already satisfied: typing-extensions>=4.6.0 in /usr/local/lib/python3.12/dist-packages (from optree->keras>=3.2.0->scikeras) (4.15.0)\n",
            "Requirement already satisfied: markdown-it-py>=2.2.0 in /usr/local/lib/python3.12/dist-packages (from rich->keras>=3.2.0->scikeras) (4.0.0)\n",
            "Requirement already satisfied: pygments<3.0.0,>=2.13.0 in /usr/local/lib/python3.12/dist-packages (from rich->keras>=3.2.0->scikeras) (2.19.2)\n",
            "Requirement already satisfied: mdurl~=0.1 in /usr/local/lib/python3.12/dist-packages (from markdown-it-py>=2.2.0->rich->keras>=3.2.0->scikeras) (0.1.2)\n"
          ]
        }
      ]
    },
    {
      "source": [
        "!pip install --upgrade scikit-learn"
      ],
      "cell_type": "code",
      "metadata": {
        "colab": {
          "base_uri": "https://localhost:8080/"
        },
        "id": "uwY1GK-m25d3",
        "outputId": "d140e67b-5e1c-44e4-9d28-d3ab16a60f47"
      },
      "execution_count": 8,
      "outputs": [
        {
          "output_type": "stream",
          "name": "stdout",
          "text": [
            "Requirement already satisfied: scikit-learn in /usr/local/lib/python3.12/dist-packages (1.7.2)\n",
            "Requirement already satisfied: numpy>=1.22.0 in /usr/local/lib/python3.12/dist-packages (from scikit-learn) (2.0.2)\n",
            "Requirement already satisfied: scipy>=1.8.0 in /usr/local/lib/python3.12/dist-packages (from scikit-learn) (1.16.2)\n",
            "Requirement already satisfied: joblib>=1.2.0 in /usr/local/lib/python3.12/dist-packages (from scikit-learn) (1.5.2)\n",
            "Requirement already satisfied: threadpoolctl>=3.1.0 in /usr/local/lib/python3.12/dist-packages (from scikit-learn) (3.6.0)\n"
          ]
        }
      ]
    },
    {
      "source": [
        "!pip uninstall scikeras -y\n",
        "!pip install scikeras\n",
        "!pip install --upgrade scikit-learn\n",
        "import numpy as np\n",
        "from sklearn.model_selection import GridSearchCV\n",
        "from sklearn.metrics import make_scorer, mean_absolute_error, mean_squared_error\n",
        "from tensorflow import keras\n",
        "from keras.models import Sequential\n",
        "from keras.layers import LSTM, Dense\n",
        "from scikeras.wrappers import KerasRegressor\n",
        "\n",
        "# Define a function to create the LSTM model\n",
        "def create_lstm_model(units=50, layers=1, learning_rate=0.001, activation='relu'):\n",
        "    model = Sequential()\n",
        "    model.add(LSTM(units=units, activation=activation, return_sequences=True if layers > 1 else False, input_shape=(5, 1)))\n",
        "    for _ in range(1, layers):\n",
        "        model.add(LSTM(units=units, activation=activation, return_sequences=True if _ < layers - 1 else False))\n",
        "    model.add(Dense(units=1))\n",
        "    optimizer = keras.optimizers.Adam(learning_rate=learning_rate)\n",
        "    model.compile(optimizer=optimizer, loss='mse')\n",
        "    return model\n",
        "\n",
        "# Create the KerasRegressor wrapper\n",
        "lstm_regressor = KerasRegressor(build_fn=create_lstm_model, verbose=0)\n",
        "\n",
        "# Define the parameter grid for hyperparameter tuning\n",
        "param_grid = {\n",
        "    'units': [30, 50, 70],\n",
        "    'layers': [1, 2],\n",
        "    'learning_rate': [0.001, 0.01],\n",
        "    'batch_size': [16, 32],\n",
        "    'epochs': [30, 50],\n",
        "    'activation': ['relu', 'tanh']\n",
        "}\n",
        "\n",
        "# Define evaluation metrics\n",
        "scoring = {\n",
        "    'mae': make_scorer(mean_absolute_error),\n",
        "    'rmse': make_scorer(lambda y_true, y_pred: np.sqrt(mean_squared_error(y_true, y_pred))),\n",
        "}"
      ],
      "cell_type": "code",
      "metadata": {
        "colab": {
          "base_uri": "https://localhost:8080/"
        },
        "id": "TVq5CPo53UW7",
        "outputId": "525466d5-fa1e-4027-cb60-b79d6223bac4"
      },
      "execution_count": 9,
      "outputs": [
        {
          "output_type": "stream",
          "name": "stdout",
          "text": [
            "Found existing installation: scikeras 0.13.0\n",
            "Uninstalling scikeras-0.13.0:\n",
            "  Successfully uninstalled scikeras-0.13.0\n",
            "Collecting scikeras\n",
            "  Using cached scikeras-0.13.0-py3-none-any.whl.metadata (3.1 kB)\n",
            "Requirement already satisfied: keras>=3.2.0 in /usr/local/lib/python3.12/dist-packages (from scikeras) (3.10.0)\n",
            "Requirement already satisfied: scikit-learn>=1.4.2 in /usr/local/lib/python3.12/dist-packages (from scikeras) (1.7.2)\n",
            "Requirement already satisfied: absl-py in /usr/local/lib/python3.12/dist-packages (from keras>=3.2.0->scikeras) (1.4.0)\n",
            "Requirement already satisfied: numpy in /usr/local/lib/python3.12/dist-packages (from keras>=3.2.0->scikeras) (2.0.2)\n",
            "Requirement already satisfied: rich in /usr/local/lib/python3.12/dist-packages (from keras>=3.2.0->scikeras) (13.9.4)\n",
            "Requirement already satisfied: namex in /usr/local/lib/python3.12/dist-packages (from keras>=3.2.0->scikeras) (0.1.0)\n",
            "Requirement already satisfied: h5py in /usr/local/lib/python3.12/dist-packages (from keras>=3.2.0->scikeras) (3.15.1)\n",
            "Requirement already satisfied: optree in /usr/local/lib/python3.12/dist-packages (from keras>=3.2.0->scikeras) (0.17.0)\n",
            "Requirement already satisfied: ml-dtypes in /usr/local/lib/python3.12/dist-packages (from keras>=3.2.0->scikeras) (0.5.3)\n",
            "Requirement already satisfied: packaging in /usr/local/lib/python3.12/dist-packages (from keras>=3.2.0->scikeras) (25.0)\n",
            "Requirement already satisfied: scipy>=1.8.0 in /usr/local/lib/python3.12/dist-packages (from scikit-learn>=1.4.2->scikeras) (1.16.2)\n",
            "Requirement already satisfied: joblib>=1.2.0 in /usr/local/lib/python3.12/dist-packages (from scikit-learn>=1.4.2->scikeras) (1.5.2)\n",
            "Requirement already satisfied: threadpoolctl>=3.1.0 in /usr/local/lib/python3.12/dist-packages (from scikit-learn>=1.4.2->scikeras) (3.6.0)\n",
            "Requirement already satisfied: typing-extensions>=4.6.0 in /usr/local/lib/python3.12/dist-packages (from optree->keras>=3.2.0->scikeras) (4.15.0)\n",
            "Requirement already satisfied: markdown-it-py>=2.2.0 in /usr/local/lib/python3.12/dist-packages (from rich->keras>=3.2.0->scikeras) (4.0.0)\n",
            "Requirement already satisfied: pygments<3.0.0,>=2.13.0 in /usr/local/lib/python3.12/dist-packages (from rich->keras>=3.2.0->scikeras) (2.19.2)\n",
            "Requirement already satisfied: mdurl~=0.1 in /usr/local/lib/python3.12/dist-packages (from markdown-it-py>=2.2.0->rich->keras>=3.2.0->scikeras) (0.1.2)\n",
            "Using cached scikeras-0.13.0-py3-none-any.whl (26 kB)\n",
            "Installing collected packages: scikeras\n",
            "Successfully installed scikeras-0.13.0\n",
            "Requirement already satisfied: scikit-learn in /usr/local/lib/python3.12/dist-packages (1.7.2)\n",
            "Requirement already satisfied: numpy>=1.22.0 in /usr/local/lib/python3.12/dist-packages (from scikit-learn) (2.0.2)\n",
            "Requirement already satisfied: scipy>=1.8.0 in /usr/local/lib/python3.12/dist-packages (from scikit-learn) (1.16.2)\n",
            "Requirement already satisfied: joblib>=1.2.0 in /usr/local/lib/python3.12/dist-packages (from scikit-learn) (1.5.2)\n",
            "Requirement already satisfied: threadpoolctl>=3.1.0 in /usr/local/lib/python3.12/dist-packages (from scikit-learn) (3.6.0)\n"
          ]
        }
      ]
    },
    {
      "source": [
        "import numpy as np\n",
        "from tensorflow import keras\n",
        "from keras.models import Sequential\n",
        "from keras.layers import LSTM, Dense\n",
        "from sklearn.metrics import mean_absolute_error, mean_squared_error\n",
        "\n",
        "# Define the LSTM model (single layer)\n",
        "def create_lstm_model(units=50, learning_rate=0.001, activation='relu'):\n",
        "    model = Sequential()\n",
        "    model.add(LSTM(units=units, activation=activation, input_shape=(5, 1)))\n",
        "    model.add(Dense(units=1))\n",
        "    optimizer = keras.optimizers.Adam(learning_rate=learning_rate)\n",
        "    model.compile(optimizer=optimizer, loss='mse')\n",
        "    return model\n",
        "\n",
        "# Data is already prepared as X_train_reshaped and y_train_reshaped.\n",
        "timesteps = 5\n",
        "X_train_reshaped = []\n",
        "y_train_reshaped = []\n",
        "for i in range(timesteps, len(X_train)):\n",
        "    X_train_reshaped.append(X_train['date_ordinal'][i-timesteps:i].values.reshape(-1, 1))\n",
        "    y_train_reshaped.append(y_train[i])\n",
        "\n",
        "X_train_reshaped = np.array(X_train_reshaped)\n",
        "y_train_reshaped = np.array(y_train_reshaped)\n",
        "\n",
        "\n",
        "# Initialize model with default parameters\n",
        "model = create_lstm_model()\n",
        "#Train the model\n",
        "history = model.fit(X_train_reshaped, y_train_reshaped, epochs=30, batch_size=32, verbose=1)\n",
        "\n",
        "# Save the model\n",
        "model.save('optimized_lstm_birth_model.keras')"
      ],
      "cell_type": "code",
      "metadata": {
        "colab": {
          "base_uri": "https://localhost:8080/"
        },
        "id": "32bmN8463hoc",
        "outputId": "38a0d2de-8be9-4a7f-ed46-c6ac249366a6"
      },
      "execution_count": 10,
      "outputs": [
        {
          "output_type": "stream",
          "name": "stdout",
          "text": [
            "Epoch 1/30\n"
          ]
        },
        {
          "output_type": "stream",
          "name": "stderr",
          "text": [
            "/usr/local/lib/python3.12/dist-packages/keras/src/layers/rnn/rnn.py:199: UserWarning: Do not pass an `input_shape`/`input_dim` argument to a layer. When using Sequential models, prefer using an `Input(shape)` object as the first layer in the model instead.\n",
            "  super().__init__(**kwargs)\n"
          ]
        },
        {
          "output_type": "stream",
          "name": "stdout",
          "text": [
            "\u001b[1m9/9\u001b[0m \u001b[32m━━━━━━━━━━━━━━━━━━━━\u001b[0m\u001b[37m\u001b[0m \u001b[1m2s\u001b[0m 21ms/step - loss: 413176640.0000\n",
            "Epoch 2/30\n",
            "\u001b[1m9/9\u001b[0m \u001b[32m━━━━━━━━━━━━━━━━━━━━\u001b[0m\u001b[37m\u001b[0m \u001b[1m0s\u001b[0m 14ms/step - loss: 51911628.0000\n",
            "Epoch 3/30\n",
            "\u001b[1m9/9\u001b[0m \u001b[32m━━━━━━━━━━━━━━━━━━━━\u001b[0m\u001b[37m\u001b[0m \u001b[1m0s\u001b[0m 12ms/step - loss: 9042440.0000\n",
            "Epoch 4/30\n",
            "\u001b[1m9/9\u001b[0m \u001b[32m━━━━━━━━━━━━━━━━━━━━\u001b[0m\u001b[37m\u001b[0m \u001b[1m0s\u001b[0m 19ms/step - loss: 12333554.0000\n",
            "Epoch 5/30\n",
            "\u001b[1m9/9\u001b[0m \u001b[32m━━━━━━━━━━━━━━━━━━━━\u001b[0m\u001b[37m\u001b[0m \u001b[1m0s\u001b[0m 13ms/step - loss: 1097622.0000\n",
            "Epoch 6/30\n",
            "\u001b[1m9/9\u001b[0m \u001b[32m━━━━━━━━━━━━━━━━━━━━\u001b[0m\u001b[37m\u001b[0m \u001b[1m0s\u001b[0m 22ms/step - loss: 1334114.3750\n",
            "Epoch 7/30\n",
            "\u001b[1m9/9\u001b[0m \u001b[32m━━━━━━━━━━━━━━━━━━━━\u001b[0m\u001b[37m\u001b[0m \u001b[1m0s\u001b[0m 18ms/step - loss: 742130.6875\n",
            "Epoch 8/30\n",
            "\u001b[1m9/9\u001b[0m \u001b[32m━━━━━━━━━━━━━━━━━━━━\u001b[0m\u001b[37m\u001b[0m \u001b[1m0s\u001b[0m 16ms/step - loss: 96653.7422\n",
            "Epoch 9/30\n",
            "\u001b[1m9/9\u001b[0m \u001b[32m━━━━━━━━━━━━━━━━━━━━\u001b[0m\u001b[37m\u001b[0m \u001b[1m0s\u001b[0m 19ms/step - loss: 51584.7422\n",
            "Epoch 10/30\n",
            "\u001b[1m9/9\u001b[0m \u001b[32m━━━━━━━━━━━━━━━━━━━━\u001b[0m\u001b[37m\u001b[0m \u001b[1m0s\u001b[0m 11ms/step - loss: 46518.6406\n",
            "Epoch 11/30\n",
            "\u001b[1m9/9\u001b[0m \u001b[32m━━━━━━━━━━━━━━━━━━━━\u001b[0m\u001b[37m\u001b[0m \u001b[1m0s\u001b[0m 13ms/step - loss: 17665.9531\n",
            "Epoch 12/30\n",
            "\u001b[1m9/9\u001b[0m \u001b[32m━━━━━━━━━━━━━━━━━━━━\u001b[0m\u001b[37m\u001b[0m \u001b[1m0s\u001b[0m 16ms/step - loss: 3634.7305\n",
            "Epoch 13/30\n",
            "\u001b[1m9/9\u001b[0m \u001b[32m━━━━━━━━━━━━━━━━━━━━\u001b[0m\u001b[37m\u001b[0m \u001b[1m0s\u001b[0m 12ms/step - loss: 909.3781\n",
            "Epoch 14/30\n",
            "\u001b[1m9/9\u001b[0m \u001b[32m━━━━━━━━━━━━━━━━━━━━\u001b[0m\u001b[37m\u001b[0m \u001b[1m0s\u001b[0m 12ms/step - loss: 583.2684\n",
            "Epoch 15/30\n",
            "\u001b[1m9/9\u001b[0m \u001b[32m━━━━━━━━━━━━━━━━━━━━\u001b[0m\u001b[37m\u001b[0m \u001b[1m0s\u001b[0m 18ms/step - loss: 428.2219\n",
            "Epoch 16/30\n",
            "\u001b[1m9/9\u001b[0m \u001b[32m━━━━━━━━━━━━━━━━━━━━\u001b[0m\u001b[37m\u001b[0m \u001b[1m0s\u001b[0m 12ms/step - loss: 223.6826\n",
            "Epoch 17/30\n",
            "\u001b[1m9/9\u001b[0m \u001b[32m━━━━━━━━━━━━━━━━━━━━\u001b[0m\u001b[37m\u001b[0m \u001b[1m0s\u001b[0m 15ms/step - loss: 135.2206\n",
            "Epoch 18/30\n",
            "\u001b[1m9/9\u001b[0m \u001b[32m━━━━━━━━━━━━━━━━━━━━\u001b[0m\u001b[37m\u001b[0m \u001b[1m0s\u001b[0m 13ms/step - loss: 87.2470\n",
            "Epoch 19/30\n",
            "\u001b[1m9/9\u001b[0m \u001b[32m━━━━━━━━━━━━━━━━━━━━\u001b[0m\u001b[37m\u001b[0m \u001b[1m0s\u001b[0m 10ms/step - loss: 62.0658 \n",
            "Epoch 20/30\n",
            "\u001b[1m9/9\u001b[0m \u001b[32m━━━━━━━━━━━━━━━━━━━━\u001b[0m\u001b[37m\u001b[0m \u001b[1m0s\u001b[0m 13ms/step - loss: 61.7581\n",
            "Epoch 21/30\n",
            "\u001b[1m9/9\u001b[0m \u001b[32m━━━━━━━━━━━━━━━━━━━━\u001b[0m\u001b[37m\u001b[0m \u001b[1m0s\u001b[0m 18ms/step - loss: 55.6091\n",
            "Epoch 22/30\n",
            "\u001b[1m9/9\u001b[0m \u001b[32m━━━━━━━━━━━━━━━━━━━━\u001b[0m\u001b[37m\u001b[0m \u001b[1m0s\u001b[0m 34ms/step - loss: 54.5897\n",
            "Epoch 23/30\n",
            "\u001b[1m9/9\u001b[0m \u001b[32m━━━━━━━━━━━━━━━━━━━━\u001b[0m\u001b[37m\u001b[0m \u001b[1m0s\u001b[0m 24ms/step - loss: 53.0465\n",
            "Epoch 24/30\n",
            "\u001b[1m9/9\u001b[0m \u001b[32m━━━━━━━━━━━━━━━━━━━━\u001b[0m\u001b[37m\u001b[0m \u001b[1m0s\u001b[0m 13ms/step - loss: 63.0541\n",
            "Epoch 25/30\n",
            "\u001b[1m9/9\u001b[0m \u001b[32m━━━━━━━━━━━━━━━━━━━━\u001b[0m\u001b[37m\u001b[0m \u001b[1m0s\u001b[0m 15ms/step - loss: 51.6329\n",
            "Epoch 26/30\n",
            "\u001b[1m9/9\u001b[0m \u001b[32m━━━━━━━━━━━━━━━━━━━━\u001b[0m\u001b[37m\u001b[0m \u001b[1m0s\u001b[0m 16ms/step - loss: 61.2673\n",
            "Epoch 27/30\n",
            "\u001b[1m9/9\u001b[0m \u001b[32m━━━━━━━━━━━━━━━━━━━━\u001b[0m\u001b[37m\u001b[0m \u001b[1m0s\u001b[0m 24ms/step - loss: 60.6297\n",
            "Epoch 28/30\n",
            "\u001b[1m9/9\u001b[0m \u001b[32m━━━━━━━━━━━━━━━━━━━━\u001b[0m\u001b[37m\u001b[0m \u001b[1m0s\u001b[0m 12ms/step - loss: 48.7124\n",
            "Epoch 29/30\n",
            "\u001b[1m9/9\u001b[0m \u001b[32m━━━━━━━━━━━━━━━━━━━━\u001b[0m\u001b[37m\u001b[0m \u001b[1m0s\u001b[0m 15ms/step - loss: 58.2020\n",
            "Epoch 30/30\n",
            "\u001b[1m9/9\u001b[0m \u001b[32m━━━━━━━━━━━━━━━━━━━━\u001b[0m\u001b[37m\u001b[0m \u001b[1m0s\u001b[0m 15ms/step - loss: 58.5712\n"
          ]
        }
      ]
    },
    {
      "source": [
        "## Data visualization\n",
        "\n",
        "### Subtask:\n",
        "Visualize the actual vs. predicted birth counts for the optimized LSTM model.\n"
      ],
      "cell_type": "markdown",
      "metadata": {
        "id": "sA42SPsl3nzW"
      }
    },
    {
      "source": [
        "**Reasoning**:\n",
        "Load the optimized LSTM model and prepare the test data for prediction, then generate predictions and visualize actual vs predicted birth counts for both training and testing data.\n",
        "\n"
      ],
      "cell_type": "markdown",
      "metadata": {
        "id": "r21XbRDJ3pVS"
      }
    },
    {
      "source": [
        "import numpy as np\n",
        "import matplotlib.pyplot as plt\n",
        "from tensorflow import keras\n",
        "\n",
        "# Load the optimized LSTM model\n",
        "optimized_lstm_model = keras.models.load_model('optimized_lstm_birth_model.keras')\n",
        "\n",
        "# Prepare test data for LSTM (using the same timesteps as during training)\n",
        "timesteps = 5\n",
        "X_test_reshaped = []\n",
        "y_test_reshaped = []\n",
        "\n",
        "for i in range(timesteps, len(X_test)):\n",
        "    X_test_reshaped.append(X_test['date_ordinal'][i - timesteps:i].values.reshape(-1, 1))\n",
        "    y_test_reshaped.append(y_test.iloc[i])  # Use iloc for correct indexing\n",
        "\n",
        "X_test_reshaped = np.array(X_test_reshaped)\n",
        "y_test_reshaped = np.array(y_test_reshaped)\n",
        "\n",
        "# Generate predictions for LSTM on the test data\n",
        "lstm_test_predictions = optimized_lstm_model.predict(X_test_reshaped)\n",
        "\n",
        "# Generate predictions for LSTM on the training data\n",
        "X_train_reshaped = []\n",
        "y_train_reshaped = []\n",
        "for i in range(timesteps, len(X_train)):\n",
        "    X_train_reshaped.append(X_train['date_ordinal'][i-timesteps:i].values.reshape(-1, 1))\n",
        "    y_train_reshaped.append(y_train.iloc[i])\n",
        "\n",
        "X_train_reshaped = np.array(X_train_reshaped)\n",
        "y_train_reshaped = np.array(y_train_reshaped)\n",
        "\n",
        "lstm_train_predictions = optimized_lstm_model.predict(X_train_reshaped)\n",
        "\n",
        "# Evaluate LSTM\n",
        "opt_lstm_mae = mean_absolute_error(y_test_reshaped, lstm_train_predictions)\n",
        "opt_lstm_rmse = np.sqrt(mean_squared_error(y_test_reshaped, lstm_train_predictions))\n",
        "opt_lstm_mape = mean_absolute_percentage_error(y_test_reshaped, lstm_train_predictions)\n",
        "\n",
        "print(\"Optimized LSTM Evaluation:\")\n",
        "print(f\"MAE: {opt_lstm_mae}\")\n",
        "print(f\"RMSE: {opt_lstm_rmse}\")\n",
        "print(f\"MAPE: {opt_lstm_mape}%\")"
      ],
      "cell_type": "code",
      "metadata": {
        "colab": {
          "base_uri": "https://localhost:8080/"
        },
        "id": "b_7vn-873pk9",
        "outputId": "8df7dd5d-96fb-46c8-d491-a88e3289428f"
      },
      "execution_count": 13,
      "outputs": [
        {
          "output_type": "stream",
          "name": "stdout",
          "text": [
            "\u001b[1m3/3\u001b[0m \u001b[32m━━━━━━━━━━━━━━━━━━━━\u001b[0m\u001b[37m\u001b[0m \u001b[1m0s\u001b[0m 151ms/step\n",
            "Optimized LSTM Evaluation:\n",
            "MAE: 4.265811538703489\n",
            "RMSE: 5.265473847978926\n",
            "MAPE: 10.051075293632256%\n"
          ]
        }
      ]
    },
    {
      "source": [
        "## Summary:\n",
        "\n",
        "### 1. Q&A\n",
        "\n",
        "* **What is the goal of this analysis?** To predict birth trends using LSTM and ARIMA models to support public health planning.\n",
        "* **How well did the LSTM and ARIMA models perform?**  The LSTM model performed slightly better than the ARIMA model based on MAE, RMSE, and MAPE.  Specifically, the LSTM achieved an MAE of 5.38, RMSE of 6.66 and MAPE of 12.54%, while the ARIMA model achieved an MAE of 5.58, RMSE of 6.84, and MAPE of 14.08%.\n",
        "* **Were there any issues with the model optimization?** Yes, the initial attempts to optimize the LSTM model using `scikeras` and `GridSearchCV` failed due to a persistent `AttributeError`. A fallback method of direct training with manually set hyperparameters was used.\n",
        "* **What was the final approach for LSTM optimization?**  A single-layer LSTM model was trained for 30 epochs with a batch size of 32, using the Adam optimizer with a learning rate of 0.001 and ReLU activation.\n",
        "\n",
        "\n",
        "### 2. Data Analysis Key Findings\n",
        "\n",
        "* **Data Characteristics:** The dataset contains daily female birth counts in California for the year 1959, with no missing values. The distribution of daily births is approximately normal, centered around a mean of 42 births.\n",
        "* **Model Performance:** The LSTM model showed slightly better performance than the ARIMA model in predicting birth trends based on MAE (5.38 vs. 5.58), RMSE (6.66 vs. 6.84), and MAPE (12.54% vs. 14.08%).\n",
        "* **Model Optimization Challenges:** Hyperparameter optimization of the LSTM model using `scikeras` and `GridSearchCV` failed due to a persistent `AttributeError`, necessitating a fallback method with manually set hyperparameters.\n",
        "\n",
        "\n",
        "### 3. Insights or Next Steps\n",
        "\n",
        "* **Investigate the `AttributeError`:**  Determine the root cause of the `AttributeError` encountered during hyperparameter optimization and find a solution to enable automated tuning.\n",
        "* **Explore Feature Engineering:**  Explore potential additional features (e.g., day of the week, month, holidays, etc.) that could improve the accuracy of the prediction models.\n"
      ],
      "cell_type": "markdown",
      "metadata": {
        "id": "k-1zrgc43v-e"
      }
    }
  ]
}